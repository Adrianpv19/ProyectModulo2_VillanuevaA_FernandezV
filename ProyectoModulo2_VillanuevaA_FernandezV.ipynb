{
 "cells": [
  {
   "cell_type": "markdown",
   "metadata": {},
   "source": [
    "# Proyecto 2\n",
    "### Integracion Montecarlo\n",
    "        Adrian Padilla Villanueva\n",
    "        Victor Manuel Vidal Fernández \n"
   ]
  },
  {
   "cell_type": "markdown",
   "metadata": {},
   "source": [
    "# Introduccion\n",
    "\n",
    "#### En este proyecto aplicaremos los metodos Montecarlo vistos en clase, este metodo tiene diferentes funciones entre ellas esta la funcion de Manejo de Datos, la cual aplicaremos en esta ocasion con el fin de ver como van reaccionando las acciones de las empresas.\n",
    "\n",
    "#### Nosotros como estudiantes de ingenieria civil, lo utilizaremos para ver el comportamiento de las empresas en la industria de la construcción."
   ]
  },
  {
   "cell_type": "markdown",
   "metadata": {},
   "source": [
    "# Objetivo\n",
    "\n",
    "Identificar el comportamiento de las acciones de las empresas mexicanas más grandes del pais de diferentes sectores en el ambito de la construccion, para localizar cuales se estan viendo menos afectadas y asi ssaber en cual sector es mejor invertir"
   ]
  },
  {
   "cell_type": "markdown",
   "metadata": {},
   "source": [
    "Esto lo haremos con la informacion obtenida en Yahoo finance, graficaremos estos datos para ver su comportamiento y asi observar los rendimientos economicos diarios.\n",
    "\n",
    "Con estos datos podremos determinar cuales son los sectores mas afectados y en cual conviene mas invertir.\n",
    "\n",
    "\n"
   ]
  },
  {
   "cell_type": "code",
   "execution_count": 1,
   "metadata": {},
   "outputs": [],
   "source": [
    "import pandas as pd\n",
    "import numpy as np\n",
    "import pandas_datareader.data as web\n",
    "import matplotlib.pyplot as plt"
   ]
  },
  {
   "cell_type": "code",
   "execution_count": 2,
   "metadata": {},
   "outputs": [],
   "source": [
    "def getCloses(names,start,end):\n",
    "    datos=web.DataReader(names,\"yahoo\",start,end)\n",
    "    return datos[\"Adj Close\"]"
   ]
  },
  {
   "cell_type": "code",
   "execution_count": 7,
   "metadata": {},
   "outputs": [],
   "source": [
    "names=[\"ALEATIC.MX\",\"FUNO11.MX\",\"PINFRA.MX\"]\n",
    "start=\"2018-01-01\"\n",
    "end=\"2020-11-09\"\n",
    "datos=getCloses(names,start,end)"
   ]
  },
  {
   "cell_type": "code",
   "execution_count": 8,
   "metadata": {},
   "outputs": [
    {
     "data": {
      "text/plain": [
       "<matplotlib.axes._subplots.AxesSubplot at 0x19ab1797640>"
      ]
     },
     "execution_count": 8,
     "metadata": {},
     "output_type": "execute_result"
    },
    {
     "data": {
      "image/png": "[encoded data removed]",
      "text/plain": [
       "<Figure size 432x288 with 1 Axes>"
      ]
     },
     "metadata": {
      "needs_background": "light"
     },
     "output_type": "display_data"
    }
   ],
   "source": [
    "datos.plot(grid=True)"
   ]
  },
  {
   "cell_type": "code",
   "execution_count": 10,
   "metadata": {},
   "outputs": [
    {
     "data": {
      "text/html": [
       "<div>\n",
       "<style scoped>\n",
       "    .dataframe tbody tr th:only-of-type {\n",
       "        vertical-align: middle;\n",
       "    }\n",
       "\n",
       "    .dataframe tbody tr th {\n",
       "        vertical-align: top;\n",
       "    }\n",
       "\n",
       "    .dataframe thead th {\n",
       "        text-align: right;\n",
       "    }\n",
       "</style>\n",
       "<table border=\"1\" class=\"dataframe\">\n",
       "  <thead>\n",
       "    <tr style=\"text-align: right;\">\n",
       "      <th>Symbols</th>\n",
       "      <th>ALEATIC.MX</th>\n",
       "      <th>FUNO11.MX</th>\n",
       "      <th>PINFRA.MX</th>\n",
       "    </tr>\n",
       "  </thead>\n",
       "  <tbody>\n",
       "    <tr>\n",
       "      <th>count</th>\n",
       "      <td>717.000000</td>\n",
       "      <td>717.000000</td>\n",
       "      <td>717.000000</td>\n",
       "    </tr>\n",
       "    <tr>\n",
       "      <th>mean</th>\n",
       "      <td>-0.000378</td>\n",
       "      <td>-0.000119</td>\n",
       "      <td>-0.000073</td>\n",
       "    </tr>\n",
       "    <tr>\n",
       "      <th>std</th>\n",
       "      <td>0.013519</td>\n",
       "      <td>0.023335</td>\n",
       "      <td>0.016829</td>\n",
       "    </tr>\n",
       "    <tr>\n",
       "      <th>min</th>\n",
       "      <td>-0.169811</td>\n",
       "      <td>-0.135031</td>\n",
       "      <td>-0.109385</td>\n",
       "    </tr>\n",
       "    <tr>\n",
       "      <th>25%</th>\n",
       "      <td>0.000000</td>\n",
       "      <td>-0.010424</td>\n",
       "      <td>-0.008191</td>\n",
       "    </tr>\n",
       "    <tr>\n",
       "      <th>50%</th>\n",
       "      <td>0.000000</td>\n",
       "      <td>0.000341</td>\n",
       "      <td>-0.000700</td>\n",
       "    </tr>\n",
       "    <tr>\n",
       "      <th>75%</th>\n",
       "      <td>0.000000</td>\n",
       "      <td>0.009864</td>\n",
       "      <td>0.008070</td>\n",
       "    </tr>\n",
       "    <tr>\n",
       "      <th>max</th>\n",
       "      <td>0.112413</td>\n",
       "      <td>0.198851</td>\n",
       "      <td>0.079220</td>\n",
       "    </tr>\n",
       "  </tbody>\n",
       "</table>\n",
       "</div>"
      ],
      "text/plain": [
       "Symbols  ALEATIC.MX   FUNO11.MX   PINFRA.MX\n",
       "count    717.000000  717.000000  717.000000\n",
       "mean      -0.000378   -0.000119   -0.000073\n",
       "std        0.013519    0.023335    0.016829\n",
       "min       -0.169811   -0.135031   -0.109385\n",
       "25%        0.000000   -0.010424   -0.008191\n",
       "50%        0.000000    0.000341   -0.000700\n",
       "75%        0.000000    0.009864    0.008070\n",
       "max        0.112413    0.198851    0.079220"
      ]
     },
     "execution_count": 10,
     "metadata": {},
     "output_type": "execute_result"
    }
   ],
   "source": [
    "R=datos.pct_change().dropna()\n",
    "R.describe()"
   ]
  },
  {
   "cell_type": "markdown",
   "metadata": {},
   "source": [
    "# Referencias\n",
    "\n",
    "https://obras.expansion.mx/construccion/2020/08/20/ranking-las-100-empresas-de-la-construccion-mas-grandes-de-mexico"
   ]
  },
  {
   "cell_type": "code",
   "execution_count": null,
   "metadata": {},
   "outputs": [],
   "source": []
  }
 ],
 "metadata": {
  "kernelspec": {
   "display_name": "Python 3",
   "language": "python",
   "name": "python3"
  },
  "language_info": {
   "codemirror_mode": {
    "name": "ipython",
    "version": 3
   },
   "file_extension": ".py",
   "mimetype": "text/x-python",
   "name": "python",
   "nbconvert_exporter": "python",
   "pygments_lexer": "ipython3",
   "version": "3.8.3"
  }
 },
 "nbformat": 4,
 "nbformat_minor": 4
}
